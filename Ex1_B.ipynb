{
 "cells": [
  {
   "cell_type": "markdown",
   "metadata": {},
   "source": [
    "Task Description\n",
    "This is the second part of the exercise. For better comparability, please load our prepared data for solving this exercise and do not use the dataset that you created in Part 1A.\n",
    "\n",
    "The goal of this exercise is to train a machine learning (ML) model on the data we prepared in the first notebook. The goal of the model is to predict the type of disruption (disruption) given the features (all other columns, like temperature etc.).\n",
    "\n",
    "First we will visualize the data to get a better understanding, then we will identify suitable machine learning methods and train a model. Finally we will test the trained ML model on a holdout test dataset."
   ]
  },
  {
   "cell_type": "markdown",
   "metadata": {},
   "source": [
    "Setup Python and load data\n",
    "Import necessary Python modules and load the preprocessed data from the shared folder.\n",
    "\n",
    "Add imports"
   ]
  },
  {
   "cell_type": "code",
   "execution_count": 1,
   "metadata": {},
   "outputs": [],
   "source": [
    "# Note: Use only the libraries below. You can import members (e.g. functions) from these libraries in your code.\n",
    "\n",
    "import numpy as np\n",
    "import pandas as pd\n",
    "import glob\n",
    "import os\n",
    "import matplotlib.pyplot as plt\n",
    "import seaborn as sns\n",
    "import datetime\n",
    "import pickle\n",
    "import sklearn\n",
    "\n",
    "import typing"
   ]
  },
  {
   "cell_type": "code",
   "execution_count": 2,
   "metadata": {},
   "outputs": [
    {
     "name": "stdout",
     "output_type": "stream",
     "text": [
      "                temp_dailyMin  temp_dailyMax  temp_dailyMean  \\\n",
      "year month day                                                 \n",
      "2013 9     14            12.5           18.8       16.000000   \n",
      "           14            12.5           18.8       16.000000   \n",
      "           14            12.5           18.8       16.000000   \n",
      "           14            12.5           18.8       16.000000   \n",
      "           14            12.5           18.8       16.000000   \n",
      "...                       ...            ...             ...   \n",
      "2023 7     20            23.1           27.9       25.433333   \n",
      "           20            23.1           27.9       25.433333   \n",
      "           20            23.1           27.9       25.433333   \n",
      "           20            23.1           27.9       25.433333   \n",
      "           20            23.1           27.9       25.433333   \n",
      "\n",
      "                temp_dailyMedian  hum_dailyMin  hum_dailyMax  hum_dailyMean  \\\n",
      "year month day                                                                \n",
      "2013 9     14               16.7            65            97      76.333333   \n",
      "           14               16.7            65            97      76.333333   \n",
      "           14               16.7            65            97      76.333333   \n",
      "           14               16.7            65            97      76.333333   \n",
      "           14               16.7            65            97      76.333333   \n",
      "...                          ...           ...           ...            ...   \n",
      "2023 7     20               25.3            36            58      44.333333   \n",
      "           20               25.3            36            58      44.333333   \n",
      "           20               25.3            36            58      44.333333   \n",
      "           20               25.3            36            58      44.333333   \n",
      "           20               25.3            36            58      44.333333   \n",
      "\n",
      "                wind_dailyMin  wind_dailyMax  wind_dailyMean  precip  \\\n",
      "year month day                                                         \n",
      "2013 9     14               3              4        3.666667     4.1   \n",
      "           14               3              4        3.666667     4.1   \n",
      "           14               3              4        3.666667     4.1   \n",
      "           14               3              4        3.666667     4.1   \n",
      "           14               3              4        3.666667     4.1   \n",
      "...                       ...            ...             ...     ...   \n",
      "2023 7     20               2              4        3.000000     0.1   \n",
      "           20               2              4        3.000000     0.1   \n",
      "           20               2              4        3.000000     0.1   \n",
      "           20               2              4        3.000000     0.1   \n",
      "           20               2              4        3.000000     0.1   \n",
      "\n",
      "                          disruption    bus  subway   tram        duration  \n",
      "year month day                                                              \n",
      "2013 9     14         Polizeieinsatz   True   False  False 0 days 01:35:00  \n",
      "           14       Fahrtbehinderung  False   False   True 0 days 03:06:00  \n",
      "           14       Fahrtbehinderung  False   False   True 0 days 00:47:00  \n",
      "           14             Verspätung  False   False   True 0 days 02:21:00  \n",
      "           14       Fahrtbehinderung  False   False   True 0 days 00:49:00  \n",
      "...                              ...    ...     ...    ...             ...  \n",
      "2023 7     20         Weichenstörung  False   False   True 0 days 03:53:00  \n",
      "           20           Verspätungen  False    True  False 0 days 02:52:00  \n",
      "           20           Verspätungen  False    True  False 0 days 00:36:00  \n",
      "           20           Verspätungen  False    True  False 0 days 00:55:00  \n",
      "           20   Schadhaftes Fahrzeug  False   False   True 0 days 01:18:00  \n",
      "\n",
      "[94657 rows x 16 columns]\n"
     ]
    }
   ],
   "source": [
    "#Load data\n",
    "#Load the preprocessed data from the shared folder:\n",
    "\n",
    "\n",
    "\n",
    "file_path = 'data_processed.pickle'\n",
    "\n",
    "# Open the file in read-binary mode and load the data\n",
    "with open(file_path, 'rb') as file:\n",
    "    data_processed = pickle.load(file)\n",
    "\n",
    "# Print or use the loaded data\n",
    "print(data_processed)"
   ]
  },
  {
   "cell_type": "markdown",
   "metadata": {},
   "source": [
    "As you know from the previous exercise, our data is not in a good state and needs some cleaning. Same holds true in this case. In the disruption column we have different descriptions meaning the same thing. With the following code we can group these things together to get a much clearer picture:"
   ]
  },
  {
   "cell_type": "code",
   "execution_count": null,
   "metadata": {},
   "outputs": [],
   "source": [
    "\n",
    "\n",
    "# mapping dictionary\n",
    "\n",
    "mapping = {\n",
    "    'Polizeieinsatz': 'Operation',\n",
    "    'Rettungseinsatz': 'Operation',\n",
    "    'Polizeieinsatz Verspätungen': 'Operation',\n",
    "    'Feuerwehreinsatz': 'Operation',\n",
    "    'Rettungseinsatz Verspätungen': 'Operation',\n",
    "    'Schadhaftes Fahrzeug': 'Vehicle in poor condition',\n",
    "    'Schadhaftes Fahrzeug Verspätungen': 'Vehicle in poor condition',\n",
    "    'Wagengebrechen': 'Vehicle in poor condition',\n",
    "    'Schadhafter Zug': 'Vehicle in poor condition',\n",
    "    'Fahrzeug Verspätungen': 'Vehicle in poor condition',\n",
    "    'Fahrzeug': 'Vehicle in poor condition',\n",
    "    'erhöhtes Fahrgastaufkommen': 'Increased passenger volume',\n",
    "    'Erhöhtes Fahrgastaufkommen': 'Increased passenger volume',\n",
    "    'erhöhtes Fahrgastaufkommen Verspätungen': 'Increased passenger volume',\n",
    "    'Verspätungen': 'Delay',\n",
    "    'Verspätung': 'Delay',\n",
    "    'Verkehrsunfall Verspätungen': 'Traffic accident',\n",
    "    'Verkehrsunfall': 'Traffic accident',\n",
    "    'Fremder Verkehrsunfall': 'Traffic accident',\n",
    "    'Fremder Verkehrsunfall Verspätungen': 'Traffic accident',\n",
    "    'Verkehrsstörung Verspätungen': 'Traffic jam',\n",
    "    'Verkehrsstörung': 'Traffic jam',\n",
    "    'Verkehrsbedingte Verspätung': 'Traffic jam',\n",
    "    'Verkehrsbedingte ': 'Traffic jam',\n",
    "    'Verkehrsbedingte Verspätungen': 'Traffic jam',\n",
    "    'Verkehrsbedingt': 'Traffic jam',\n",
    "    'Verkehrsbedingt Verspätungen': 'Traffic jam',\n",
    "    'Verkehrsbedingte Verspätung Verspätungenen': 'Traffic jam',\n",
    "    'Verkehrsbedingte Verspätung Verspätungen': 'Traffic jam',\n",
    "    'Veranstaltung': 'Event',\n",
    "    'Vienna': 'Event',\n",
    "    'Vienna-City-Marathon': 'Event',\n",
    "    'Regenbogenparade': 'Event',\n",
    "    'Demonstration': 'Event',\n",
    "    'Staatsbesuch': 'Event',\n",
    "    'Opernball': 'Event',\n",
    "    'Erkrankung eines Fahrgastes': 'Personnel problems',\n",
    "    'Erkrankung eines': 'Personnel problems',\n",
    "    'Erkrankung': 'Personnel problems',\n",
    "    'Fahrleitungsgebrechen': 'General infrastructure',\n",
    "    'Wasserrohrgebrechen': 'General infrastructure',\n",
    "    'Stromstörung': 'General infrastructure',\n",
    "    'Gasrohrgebrechen': 'General infrastructure',\n",
    "    'Gleisschaden': 'Transportation infrastructure',\n",
    "    'Weichenstörung': 'Transportation infrastructure',\n",
    "    'Gleisbauarbeiten': 'Transportation infrastructure',\n",
    "    'Signalstörung': 'Transportation infrastructure',\n",
    "    'Signalstörung Verspätungen': 'Transportation infrastructure',\n",
    "    'Stellwerkstörung': 'Transportation infrastructure',\n",
    "    'Betriebsstörung': 'Operational disruption',\n",
    "    'Betriebseinstellung': 'Operational disruption',\n",
    "    'Fahrtbehinderung': 'Maliciousness',\n",
    "    'Sachbeschädigung': 'Maliciousness',\n",
    "    'Falschparker': 'Maliciousness',\n",
    "    'Witterungsbedingt': 'Weather',\n",
    "    'Sturmschaden': 'Weather',\n",
    "    'Bauarbeiten': 'Construction work',\n",
    "    'Umleitung': 'Construction work',\n",
    "    'Verunreinigung': 'Contamination'\n",
    "}\n",
    "\n",
    "# Use the replace method to update the column\n",
    "data_processed['disruption'] = data_processed['disruption'].replace(mapping)"
   ]
  },
  {
   "cell_type": "markdown",
   "metadata": {},
   "source": [
    "Now transform the values from your target column disruption and save the new values in the new column class."
   ]
  },
  {
   "cell_type": "code",
   "execution_count": null,
   "metadata": {},
   "outputs": [],
   "source": [
    "from sklearn.preprocessing import LabelEncoder\n",
    "\n",
    "target_column = 'disruption'\n",
    "\n",
    "# YOUR CODE HERE\n",
    "\n"
   ]
  }
 ],
 "metadata": {
  "kernelspec": {
   "display_name": "base",
   "language": "python",
   "name": "python3"
  },
  "language_info": {
   "codemirror_mode": {
    "name": "ipython",
    "version": 3
   },
   "file_extension": ".py",
   "mimetype": "text/x-python",
   "name": "python",
   "nbconvert_exporter": "python",
   "pygments_lexer": "ipython3",
   "version": "3.12.7"
  }
 },
 "nbformat": 4,
 "nbformat_minor": 2
}
